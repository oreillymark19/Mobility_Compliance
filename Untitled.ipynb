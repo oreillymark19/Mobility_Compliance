{
 "cells": [
  {
   "cell_type": "code",
   "execution_count": null,
   "metadata": {},
   "outputs": [],
   "source": [
    "# Import necessary libraries\n",
    "import pandas as pd\n",
    "import matplotlib.pyplot as plt\n",
    "import seaborn as sns\n",
    "%matplotlib inline"
   ]
  },
  {
   "cell_type": "code",
   "execution_count": null,
   "metadata": {
    "collapsed": true
   },
   "outputs": [],
   "source": [
    "# Read in data\n",
    "#Google mobility data\n",
    "goog_mob = pd.read_csv(\"./Region_Mobility_Report_CSVs/2020_CA_Region_Mobility_Report.csv\")\n",
    "\n",
    "#Ontario COVID Public Health Unit Data - Cases Status\n",
    "ont_phu_status = pd.read_csv(\"./cases_by_status_and_phu.csv\")\n",
    "\n",
    "#Ontario COVID Public Health Unit Data - Daily increase in cases\n",
    "ont_phu_incr = pd.read_csv(\"./daily_change_in_cases_by_phu.csv\")"
   ]
  },
  {
   "cell_type": "markdown",
   "metadata": {},
   "source": [
    "## Google Mobility Data"
   ]
  },
  {
   "cell_type": "code",
   "execution_count": null,
   "metadata": {},
   "outputs": [],
   "source": [
    "# Inspect data\n",
    "goog_mob.head()\n",
    "goog_mob.sub_region_1.unique()\n",
    "\n",
    "# Filter for Ontario Data\n",
    "ont_goog_mob = goog_mob[goog_mob['sub_region_1'] == 'Ontario']\n",
    "ont_goog_mob.head()\n",
    "# Plot some variable\n",
    "sns.lineplot(data = ont_goog_mob, x = 'date', y = 'residential_percent_change_from_baseline')\n",
    "plt.show()"
   ]
  },
  {
   "cell_type": "code",
   "execution_count": null,
   "metadata": {},
   "outputs": [],
   "source": [
    "print(sns.__version__)"
   ]
  }
 ],
 "metadata": {
  "kernelspec": {
   "display_name": "Python 3",
   "language": "python",
   "name": "python3"
  },
  "language_info": {
   "codemirror_mode": {
    "name": "ipython",
    "version": 3
   },
   "file_extension": ".py",
   "mimetype": "text/x-python",
   "name": "python",
   "nbconvert_exporter": "python",
   "pygments_lexer": "ipython3",
   "version": "3.6.3"
  }
 },
 "nbformat": 4,
 "nbformat_minor": 2
}
