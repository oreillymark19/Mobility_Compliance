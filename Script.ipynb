{
 "cells": [
  {
   "cell_type": "code",
   "execution_count": 30,
   "metadata": {
    "collapsed": true
   },
   "outputs": [],
   "source": [
    "# Import necessary libraries\n",
    "import pandas as pd\n",
    "import matplotlib.pyplot as plt\n",
    "import seaborn as sns\n",
    "import json\n",
    "%matplotlib inline"
   ]
  },
  {
   "cell_type": "code",
   "execution_count": 81,
   "metadata": {},
   "outputs": [],
   "source": [
    "# Read in data\n",
    "#Google mobility data\n",
    "goog_mob = pd.read_csv(\"./Region_Mobility_Report_CSVs/2020_CA_Region_Mobility_Report.csv\")\n",
    "\n",
    "#Ontario COVID Public Health Unit Data - Cases Status\n",
    "ont_phu_status = pd.read_csv(\"./cases_by_status_and_phu.csv\")\n",
    "\n",
    "#Ontario COVID Public Health Unit Data - Daily increase in cases\n",
    "ont_phu_incr = pd.read_csv(\"./daily_change_in_cases_by_phu.csv\")\n",
    "\n",
    "#Ontario COVID Public Health Unit identifiers\n",
    "ont_phu_id = pd.read_csv(\"./PHU_ids.csv\", usecols = [1,2])\n",
    "\n",
    "# Google mobility data region to PHU mappin\n",
    "with open(\"./Region_PHU_Mapping.json\") as file:\n",
    "    reg_phu_map = json.load(file)"
   ]
  },
  {
   "cell_type": "markdown",
   "metadata": {},
   "source": [
    "## Google Mobility Data"
   ]
  },
  {
   "cell_type": "code",
   "execution_count": 82,
   "metadata": {
    "collapsed": true
   },
   "outputs": [],
   "source": [
    "# Inspect data\n",
    "goog_mob.head()\n",
    "goog_mob.sub_region_1.unique()\n",
    "\n",
    "# Filter for Ontario Data\n",
    "ont_goog_mob = goog_mob[goog_mob['sub_region_1'] == 'Ontario']\n",
    "\n"
   ]
  },
  {
   "cell_type": "code",
   "execution_count": 83,
   "metadata": {},
   "outputs": [
    {
     "data": {
      "text/plain": [
       "array(['Algoma Public Health Unit', 'Brant County Health Unit',\n",
       "       'Chatham-Kent Health Unit', 'Durham Region Health Department',\n",
       "       'Eastern Ontario Health Unit', 'Grey Bruce Health Unit',\n",
       "       'Haldimand-Norfolk Health Unit',\n",
       "       'Haliburton, Kawartha, Pine Ridge District Health Unit',\n",
       "       'Halton Region Health Department', 'Hamilton Public Health',\n",
       "       'Hastings and Prince Edward Counties Health Unit',\n",
       "       'Huron Perth Health Unit',\n",
       "       'Kingston, Frontenac and Lennox and Addington Health Unit',\n",
       "       'Lambton Public Health',\n",
       "       'Leeds, Grenville and Lanark District Health Unit',\n",
       "       'Middlesex-London Health Unit',\n",
       "       'Niagara Region Public Health Department',\n",
       "       'North Bay Parry Sound District Health Unit',\n",
       "       'Northwestern Health Unit', 'Ottawa Public Health',\n",
       "       'Peel Public Health', 'Peterborough Public Health',\n",
       "       'Porcupine Health Unit', 'Region of Waterloo, Public Health',\n",
       "       'Renfrew County and District Health Unit',\n",
       "       'Simcoe Muskoka District Health Unit', 'Southwestern Public Health',\n",
       "       'Sudbury and District Health Unit',\n",
       "       'Thunder Bay District Health Unit', 'Timiskaming Health Unit',\n",
       "       'Toronto Public Health', 'Wellington-Dufferin-Guelph Health Unit',\n",
       "       'Windsor-Essex County Health Unit', 'York Region Public Health',\n",
       "       'Total'], dtype=object)"
      ]
     },
     "execution_count": 83,
     "metadata": {},
     "output_type": "execute_result"
    }
   ],
   "source": [
    "# Melt columns for each PHU into one volumn\n",
    "# ont_phu_status.PHU_NAME.unique()\n",
    "\n",
    "melted_phu_incr = ont_phu_incr.melt(id_vars='Date', var_name = 'PHU_NAME', value_name='New_Cases')\n",
    "\n",
    "# Fix PHU naming scheme in cases data set to match PHU id table\n",
    "melted_phu_incr['PHU_NAME'] = [name.replace(\"_\",\" \") for name in melted_phu_incr['PHU_NAME']]\n",
    "melted_phu_incr['PHU_NAME'] = [name.replace(\"&\",\"and\") for name in melted_phu_incr['PHU_NAME']]\n",
    "melted_phu_incr['PHU_NAME'] = [name.replace(\" Services\",\"\") for name in melted_phu_incr['PHU_NAME']]\n",
    "melted_phu_incr['PHU_NAME'] = melted_phu_incr['PHU_NAME'].replace('Huron Perth District Health Unit', 'Huron Perth Health Unit')\n",
    "melted_phu_incr['PHU_NAME'] = melted_phu_incr['PHU_NAME'].replace('Kingston, Frontenac and Lennox and Addington Public Health', \\\n",
    "                                                                  'Kingston, Frontenac and Lennox and Addington Health Unit')\n",
    "melted_phu_incr['PHU_NAME'] = melted_phu_incr['PHU_NAME'].replace('Wellington-Dufferin-Guelph Public Health',\\\n",
    "                                                                  'Wellington-Dufferin-Guelph Health Unit')\n",
    "\n",
    "melted_phu_incr['PHU_NAME'].unique()"
   ]
  },
  {
   "cell_type": "code",
   "execution_count": 84,
   "metadata": {},
   "outputs": [],
   "source": [
    "# Join PHU reported increase in cases with PHU ID\n",
    "melted_phu_incr = melted_phu_incr.merge(ont_phu_id, how = 'left',\\\n",
    "                                        left_on = \"PHU_NAME\",\\\n",
    "                                        right_on = \"PHU_NAME_ENG\").drop(\"PHU_NAME_ENG\",axis = 1)\n",
    "\n",
    "# Replace NA values for Ontario wide values with 0 (no PHU ID for Ontario)\n",
    "melted_phu_incr.PHU_ID = melted_phu_incr.PHU_ID.fillna(0)\n",
    "\n",
    "# Cast PHU_ID as integer to allow for merging with other data on this column\n",
    "melted_phu_incr = melted_phu_incr.astype({'PHU_ID':'int64'})"
   ]
  },
  {
   "cell_type": "code",
   "execution_count": 85,
   "metadata": {
    "collapsed": true
   },
   "outputs": [],
   "source": [
    "# Join PHU reported increase in cases with PHU reported status (including recoveries and deaths)\n",
    "phu_data = melted_phu_incr.merge(ont_phu_status, how = 'inner',\\\n",
    "                                 left_on = [\"PHU_ID\", \"Date\"], \\\n",
    "                                 right_on = [\"PHU_NUM\", \"FILE_DATE\"], \\\n",
    "                                 suffixes = ['', '_y']).drop([\"PHU_NUM\", \"PHU_NAME_y\",\"FILE_DATE\"],axis = 1)"
   ]
  },
  {
   "cell_type": "code",
   "execution_count": 50,
   "metadata": {},
   "outputs": [
    {
     "name": "stdout",
     "output_type": "stream",
     "text": [
      "['HALIBURTON, KAWARTHA, PINE RIDGE' 'HALTON REGION'\n",
      " 'HASTINGS & PRINCE EDWARD COUNTIES' 'HURON PERTH'\n",
      " 'KINGSTON, FRONTENAC, LENNOX & ADDINGTON' 'LAMBTON COUNTY'\n",
      " 'LEEDS, GRENVILLE AND LANARK DISTRICT' 'MIDDLESEX-LONDON' 'NIAGARA REGION'\n",
      " 'NORTH BAY PARRY SOUND DISTRICT' 'NORTHWESTERN' 'OXFORD ELGIN-ST.THOMAS'\n",
      " 'PEEL REGION' 'PETERBOROUGH COUNTY-CITY' 'PORCUPINE'\n",
      " 'RENFREW COUNTY AND DISTRICT' 'SIMCOE MUSKOKA DISTRICT'\n",
      " 'SUDBURY AND DISTRICT' 'THUNDER BAY DISTRICT' 'TIMISKAMING' 'TORONTO'\n",
      " 'WATERLOO REGION' 'WELLINGTON-DUFFERIN-GUELPH' 'WINDSOR-ESSEX COUNTY'\n",
      " 'YORK REGION' 'ALGOMA DISTRICT' 'BRANT COUNTY' 'CHATHAM-KENT'\n",
      " 'CITY OF HAMILTON' 'CITY OF OTTAWA' 'DURHAM REGION' 'EASTERN ONTARIO'\n",
      " 'GREY BRUCE' 'HALDIMAND-NORFOLK']\n",
      "[nan 'Algoma District' 'Brant County' 'Brantford' 'Bruce County'\n",
      " 'Chatham-Kent Division' 'Cochrane District' 'Dufferin County'\n",
      " 'Elgin County' 'Essex County' 'Frontenac County'\n",
      " 'Greater Sudbury Division' 'Grey County' 'Haldimand County'\n",
      " 'Haliburton County' 'Hamilton Division' 'Hastings County' 'Huron County'\n",
      " 'Kawartha Lakes Division' 'Kenora District' 'Lambton County'\n",
      " 'Lanark County' 'Leeds and Grenville United Counties'\n",
      " 'Lennox and Addington County' 'Manitoulin District' 'Middlesex County'\n",
      " 'Muskoka District Municipality' 'Nipissing District' 'Norfolk County'\n",
      " 'Northumberland County' 'Ottawa Division' 'Oxford County'\n",
      " 'Parry Sound District' 'Perth County' 'Peterborough County'\n",
      " 'Prescott and Russell United Counties' 'Prince Edward County'\n",
      " 'Rainy River District' 'Regional Municipality of Durham'\n",
      " 'Regional Municipality of Halton' 'Regional Municipality of Niagara'\n",
      " 'Regional Municipality of Peel' 'Regional Municipality of York'\n",
      " 'Renfrew County' 'Simcoe County'\n",
      " 'Stormont, Dundas and Glengarry United Counties' 'Sudbury District'\n",
      " 'Thunder Bay District' 'Timiskaming District' 'Toronto Division'\n",
      " 'Waterloo Regional Municipality' 'Wellington County']\n",
      "['Algoma Public Health Unit' 'Brant County Health Unit'\n",
      " 'Chatham-Kent Health Unit' 'Durham Region Health Department'\n",
      " 'Eastern Ontario Health Unit' 'Grey Bruce Health Unit'\n",
      " 'Haldimand-Norfolk Health Unit'\n",
      " 'Haliburton, Kawartha, Pine Ridge District Health Unit'\n",
      " 'Halton Region Health Department'\n",
      " 'Hastings and Prince Edward Counties Health Unit'\n",
      " 'Huron Perth Health Unit'\n",
      " 'Kingston, Frontenac and Lennox and Addington Health Unit'\n",
      " 'Lambton Public Health' 'Leeds, Grenville and Lanark District Health Unit'\n",
      " 'Middlesex-London Health Unit' 'Niagara Region Public Health Department'\n",
      " 'North Bay Parry Sound District Health Unit' 'Northwestern Health Unit'\n",
      " 'Ottawa Public Health' 'Peel Public Health' 'Peterborough Public Health'\n",
      " 'Porcupine Health Unit' 'Region of Waterloo, Public Health'\n",
      " 'Renfrew County and District Health Unit'\n",
      " 'Simcoe Muskoka District Health Unit' 'Southwestern Public Health'\n",
      " 'Sudbury and District Health Unit' 'Thunder Bay District Health Unit'\n",
      " 'Timiskaming Health Unit' 'Toronto Public Health'\n",
      " 'Wellington-Dufferin-Guelph Health Unit'\n",
      " 'Windsor-Essex County Health Unit' 'York Region Public Health']\n"
     ]
    }
   ],
   "source": [
    "print(ont_phu_status['PHU_NAME'].unique())\n",
    "print(ont_goog_mob['sub_region_2'].unique())\n",
    "print(phu_data['PHU_NAME'].unique())"
   ]
  },
  {
   "cell_type": "code",
   "execution_count": 108,
   "metadata": {},
   "outputs": [],
   "source": [
    "# Google mobility data region to PHU mappin\n",
    "with open(\"./Region_PHU_Mapping.json\") as file:\n",
    "    reg_phu_map = json.load(file)\n",
    "\n",
    "# ont_goog_mob['PHU_NAME'] = \n",
    "ont_goog_mob = ont_goog_mob.reset_index(drop=True)\n",
    "# ont_goog_mob['PHU_NAME'] = [reg_phu_map[region] for region in ont_goog_mob['sub_region_2']]\n",
    "ont_goog_mob['sub_region_2'] = ont_goog_mob['sub_region_2'].fillna(0)\n",
    "reg_to_phu = [] \n",
    "for index, region in enumerate(ont_goog_mob['sub_region_2']):  \n",
    "    if region == 0:\n",
    "        reg_to_phu.append(\"N/A\")\n",
    "    else:\n",
    "        reg_to_phu.append(reg_phu_map[region])\n",
    "\n",
    "ont_goog_mob['PHU_NAME'] = reg_to_phu\n"
   ]
  },
  {
   "cell_type": "code",
   "execution_count": 118,
   "metadata": {},
   "outputs": [],
   "source": [
    "ont_goog_mob = ont_goog_mob.drop(['country_region_code', 'country_region','metro_area', 'iso_3166_2_code','census_fips_code'],axis = 1)"
   ]
  },
  {
   "cell_type": "code",
   "execution_count": 121,
   "metadata": {},
   "outputs": [
    {
     "data": {
      "text/plain": [
       "(14365, 15)"
      ]
     },
     "execution_count": 121,
     "metadata": {},
     "output_type": "execute_result"
    }
   ],
   "source": [
    "full_data = phu_data.merge(ont_goog_mob, how = 'inner',\\\n",
    "                                 left_on = [\"PHU_NAME\", \"Date\"], \\\n",
    "                                 right_on = [\"PHU_NAME\", \"date\"], \\\n",
    "                                 suffixes = ['', '_goog']).drop('date', axis = 1)\n",
    "full_data.shape"
   ]
  }
 ],
 "metadata": {
  "kernelspec": {
   "display_name": "Python 3",
   "language": "python",
   "name": "python3"
  },
  "language_info": {
   "codemirror_mode": {
    "name": "ipython",
    "version": 3
   },
   "file_extension": ".py",
   "mimetype": "text/x-python",
   "name": "python",
   "nbconvert_exporter": "python",
   "pygments_lexer": "ipython3",
   "version": "3.6.3"
  }
 },
 "nbformat": 4,
 "nbformat_minor": 2
}
